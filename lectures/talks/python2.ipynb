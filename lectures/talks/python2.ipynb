{
 "cells": [
  {
   "cell_type": "markdown",
   "metadata": {},
   "source": [
    "# More Python"
   ]
  },
  {
   "cell_type": "markdown",
   "metadata": {},
   "source": [
    "## Markdown and ipynb\n",
    "\n",
    "- Explain how to use the notebook"
   ]
  },
  {
   "cell_type": "markdown",
   "metadata": {},
   "source": [
    "## Modules"
   ]
  },
  {
   "cell_type": "code",
   "execution_count": null,
   "metadata": {
    "collapsed": false
   },
   "outputs": [],
   "source": [
    "import constants\n",
    "\n",
    "two_pi = 2 * constants.pi\n",
    "h_bar = constants.h / two_pi"
   ]
  },
  {
   "cell_type": "code",
   "execution_count": null,
   "metadata": {
    "collapsed": false
   },
   "outputs": [],
   "source": [
    "from constants import pi, h\n",
    "\n",
    "two_pi = 2 * pi\n",
    "h_bar = h / two_pi"
   ]
  },
  {
   "cell_type": "code",
   "execution_count": null,
   "metadata": {
    "collapsed": false
   },
   "outputs": [],
   "source": [
    "import constants as c\n",
    "\n",
    "constants = 2.71828\n",
    "\n",
    "two_pi = 2 * c.pi\n",
    "h_bar = c.h / 2 / c.pi"
   ]
  },
  {
   "cell_type": "code",
   "execution_count": null,
   "metadata": {
    "collapsed": false
   },
   "outputs": [],
   "source": [
    "from constants import pi as PI, h as H\n",
    "\n",
    "two_pi = 2 * PI\n",
    "h_bar = H / two_pi"
   ]
  },
  {
   "cell_type": "code",
   "execution_count": null,
   "metadata": {
    "collapsed": true
   },
   "outputs": [],
   "source": []
  },
  {
   "cell_type": "markdown",
   "metadata": {},
   "source": [
    "# Python: Essential Containers\n",
    "\n",
    "Let’s now delve further into the tools of the Python language. Python comes with a\n",
    "suite of built-in data containers. These are data types that are used to hold many\n",
    "other variables. Much like you might place books on a bookshelf, you can stick integers\n",
    "or floats or strings into these containers. Each container is represented by its own\n",
    "type and has its own unique properties that define it. Major containers that Python\n",
    "supports are list, tuple, set, frozenset, and dict."
   ]
  },
  {
   "cell_type": "markdown",
   "metadata": {},
   "source": [
    "## Sets\n",
    "Instances of the set type are equivalent to mathematical sets. Like their math counterparts,\n",
    "literal sets in Python are defined by comma-separated values between curly\n",
    "braces (`{}`). Sets are unordered containers of unique values. Duplicated elements are\n",
    "ignored."
   ]
  },
  {
   "cell_type": "code",
   "execution_count": null,
   "metadata": {
    "collapsed": false
   },
   "outputs": [],
   "source": [
    "# a literal set formed with elements of various types\n",
    "{1.0, 10, \"one hundred\", (1, 0, 0,0)}"
   ]
  },
  {
   "cell_type": "code",
   "execution_count": null,
   "metadata": {
    "collapsed": false
   },
   "outputs": [],
   "source": [
    "# a literal set of special values\n",
    "{True, False, None, \"\", 0.0, 0}"
   ]
  },
  {
   "cell_type": "code",
   "execution_count": null,
   "metadata": {
    "collapsed": false
   },
   "outputs": [],
   "source": [
    "# conversion from a list to a set\n",
    "set([2.0, 4, \"eight\", (16,)])"
   ]
  },
  {
   "cell_type": "code",
   "execution_count": null,
   "metadata": {
    "collapsed": false
   },
   "outputs": [],
   "source": [
    "set(\"Marie Curie\")"
   ]
  },
  {
   "cell_type": "code",
   "execution_count": null,
   "metadata": {
    "collapsed": false
   },
   "outputs": [],
   "source": [
    "set([\"Marie Curie\"])"
   ]
  },
  {
   "cell_type": "markdown",
   "metadata": {},
   "source": [
    "# Python: Flow Control and Logic\n",
    "\n",
    "Flow control is a high-level way of programming a computer to make decisions. These\n",
    "decisions can be simple or complicated, executed once or multiple times. The syntax\n",
    "for the different flow control mechanisms varies, but what they all share is that they\n",
    "determine an execution pathway for the program. Python has relatively few forms of\n",
    "flow control. They are conditionals, exceptions, and loops"
   ]
  },
  {
   "cell_type": "markdown",
   "metadata": {},
   "source": [
    "## Exceptions\n",
    "\n",
    "Python, like most modern programming languages, has a mechanism for exception\n",
    "handling. This is a language feature that allows the programmer to work around situations\n",
    "where the unexpected and catastrophic happen.\n",
    "\n",
    "```python\n",
    "try:\n",
    "    <try-block>\n",
    "except:\n",
    "    <except-block>\n",
    "```\n",
    "\n",
    "As an example, say that a user manually inputs a value and then the program takes\n",
    "the inverse of this value. Normally this computes just fine, with the exception of when\n",
    "the user enters 0:"
   ]
  },
  {
   "cell_type": "code",
   "execution_count": null,
   "metadata": {
    "collapsed": false
   },
   "outputs": [],
   "source": [
    "val = 0.0\n",
    "1.0 / val"
   ]
  },
  {
   "cell_type": "markdown",
   "metadata": {},
   "source": [
    "This error could be handled with a try-except, which would prevent the program\n",
    "from crashing:"
   ]
  },
  {
   "cell_type": "code",
   "execution_count": null,
   "metadata": {
    "collapsed": false
   },
   "outputs": [],
   "source": [
    "try:\n",
    "    inv = 1.0 / val\n",
    "except: \n",
    "    print(\"A bad value was submitted {0}, please try again\".format(val))"
   ]
  },
  {
   "cell_type": "code",
   "execution_count": null,
   "metadata": {
    "collapsed": false
   },
   "outputs": [],
   "source": [
    "try:\n",
    "    inv = 1.0 / val\n",
    "except ZeroDivisionError: \n",
    "    print(\"A zero value was submitted, please try again\")"
   ]
  },
  {
   "cell_type": "code",
   "execution_count": null,
   "metadata": {
    "collapsed": false
   },
   "outputs": [],
   "source": [
    "try:\n",
    "    inv = 1.0 / val\n",
    "except ZeroDivisionError: \n",
    "    print(\"A zero value was submitted, please try again\")\n",
    "except: \n",
    "    print(\"A bad value was submitted {0}, please try again\".format(val))"
   ]
  },
  {
   "cell_type": "markdown",
   "metadata": {},
   "source": [
    "### Raising Exceptions\n",
    "`raise` statements may appear anywhere, but it is common to put them inside of conditionals\n",
    "so that they are not executed unless they need to be."
   ]
  },
  {
   "cell_type": "code",
   "execution_count": null,
   "metadata": {
    "collapsed": false
   },
   "outputs": [],
   "source": [
    "if val == 0.0:\n",
    "    raise ZeroDivisionError\n",
    "inv = 1.0 / val"
   ]
  },
  {
   "cell_type": "code",
   "execution_count": null,
   "metadata": {
    "collapsed": false
   },
   "outputs": [],
   "source": [
    "if val == 0.0:\n",
    "    raise ZeroDivisionError(\"taking the inverse of zero is forbidden!\")\n",
    "inv = 1.0 / val"
   ]
  },
  {
   "cell_type": "markdown",
   "metadata": {},
   "source": [
    "## more Loops"
   ]
  },
  {
   "cell_type": "code",
   "execution_count": null,
   "metadata": {
    "collapsed": false
   },
   "outputs": [],
   "source": [
    "quarks = {'up', 'down', 'top', 'bottom', 'charm', 'strange'}\n",
    "for quark in quarks:\n",
    "    print(quark)"
   ]
  },
  {
   "cell_type": "code",
   "execution_count": null,
   "metadata": {
    "collapsed": false
   },
   "outputs": [],
   "source": [
    "upper_quarks = []\n",
    "for quark in quarks:\n",
    "    upper_quarks.append(quark.upper())"
   ]
  },
  {
   "cell_type": "code",
   "execution_count": null,
   "metadata": {
    "collapsed": false
   },
   "outputs": [],
   "source": [
    "upper_quarks = [quark.upper() for quark in quarks]\n",
    "upper_quarks"
   ]
  },
  {
   "cell_type": "code",
   "execution_count": null,
   "metadata": {
    "collapsed": false
   },
   "outputs": [],
   "source": [
    "entries = ['top', 'CHARm', 'Top', 'sTraNGe', 'strangE', 'top']\n",
    "quarks = {quark.lower() for quark in entries}\n",
    "quarks"
   ]
  },
  {
   "cell_type": "code",
   "execution_count": null,
   "metadata": {
    "collapsed": false
   },
   "outputs": [],
   "source": [
    "entries = [1, 10, 12.5, 65, 88]\n",
    "results = {x: x**2 + 42 for x in entries}\n",
    "results"
   ]
  },
  {
   "cell_type": "code",
   "execution_count": null,
   "metadata": {
    "collapsed": false
   },
   "outputs": [],
   "source": [
    "{x**2 for x in fib if x%5 == 0}"
   ]
  },
  {
   "cell_type": "code",
   "execution_count": null,
   "metadata": {
    "collapsed": false
   },
   "outputs": [],
   "source": [
    "coords = {'x': 1, 'y': 2, 'z': 3, 'r': 1, 'theta': 2, 'phi': 3}\n",
    "polar_keys = {'r', 'theta', 'phi'}\n",
    "polar = {key: value for key, value in coords.items() if key in polar_keys}\n",
    "polar"
   ]
  },
  {
   "cell_type": "markdown",
   "metadata": {},
   "source": [
    "## Functions and arguments"
   ]
  },
  {
   "cell_type": "code",
   "execution_count": null,
   "metadata": {
    "collapsed": false
   },
   "outputs": [],
   "source": [
    "def line(x, a=1.0, b=0.0):\n",
    "    return a*x + b"
   ]
  },
  {
   "cell_type": "code",
   "execution_count": null,
   "metadata": {
    "collapsed": false
   },
   "outputs": [],
   "source": [
    "line(42)            # no keyword args, returns 1*42 + 0"
   ]
  },
  {
   "cell_type": "code",
   "execution_count": null,
   "metadata": {
    "collapsed": false
   },
   "outputs": [],
   "source": [
    "line(42, 2)         # a=2, returns 84"
   ]
  },
  {
   "cell_type": "code",
   "execution_count": null,
   "metadata": {
    "collapsed": false
   },
   "outputs": [],
   "source": [
    "line(42, b=10)      # b=10, returns 52"
   ]
  },
  {
   "cell_type": "code",
   "execution_count": null,
   "metadata": {
    "collapsed": false
   },
   "outputs": [],
   "source": [
    "line(42, b=10, a=2) # returns 94 "
   ]
  },
  {
   "cell_type": "code",
   "execution_count": null,
   "metadata": {
    "collapsed": false
   },
   "outputs": [],
   "source": [
    "line(42, a=2, b=10) # also returns 94 "
   ]
  },
  {
   "cell_type": "code",
   "execution_count": null,
   "metadata": {
    "collapsed": false
   },
   "outputs": [],
   "source": [
    "max(6, 2)"
   ]
  },
  {
   "cell_type": "code",
   "execution_count": null,
   "metadata": {
    "collapsed": false
   },
   "outputs": [],
   "source": [
    "max(6, 42)"
   ]
  },
  {
   "cell_type": "code",
   "execution_count": null,
   "metadata": {
    "collapsed": false
   },
   "outputs": [],
   "source": [
    "max(1, 16, 12)"
   ]
  },
  {
   "cell_type": "code",
   "execution_count": null,
   "metadata": {
    "collapsed": false
   },
   "outputs": [],
   "source": [
    "max(65, 42, 2, 8)"
   ]
  },
  {
   "cell_type": "code",
   "execution_count": null,
   "metadata": {
    "collapsed": false
   },
   "outputs": [],
   "source": [
    "def minimum(*args):\n",
    "    \"\"\"Takes any number of arguments!\"\"\"\n",
    "    m = args[0]\n",
    "    for x in args[1:]:\n",
    "        if x < m:\n",
    "          m = x\n",
    "    return m "
   ]
  },
  {
   "cell_type": "code",
   "execution_count": null,
   "metadata": {
    "collapsed": false
   },
   "outputs": [],
   "source": [
    "minimum(6, 42)"
   ]
  },
  {
   "cell_type": "code",
   "execution_count": null,
   "metadata": {
    "collapsed": false
   },
   "outputs": [],
   "source": [
    "data = [65, 42, 2, 8]\n",
    "minimum(*data)"
   ]
  },
  {
   "cell_type": "code",
   "execution_count": null,
   "metadata": {
    "collapsed": false
   },
   "outputs": [],
   "source": [
    "def blender(*args, **kwargs):\n",
    "    \"\"\"Will it?\"\"\"\n",
    "    print(args, kwargs)"
   ]
  },
  {
   "cell_type": "code",
   "execution_count": null,
   "metadata": {
    "collapsed": false
   },
   "outputs": [],
   "source": [
    "blender(\"yes\", 42)"
   ]
  },
  {
   "cell_type": "code",
   "execution_count": null,
   "metadata": {
    "collapsed": false
   },
   "outputs": [],
   "source": [
    "blender(z=6, x=42)"
   ]
  },
  {
   "cell_type": "code",
   "execution_count": null,
   "metadata": {
    "collapsed": false
   },
   "outputs": [],
   "source": [
    "blender(\"no\", [1], \"yes\", z=6, x=42)"
   ]
  },
  {
   "cell_type": "code",
   "execution_count": null,
   "metadata": {
    "collapsed": false
   },
   "outputs": [],
   "source": [
    "t = (\"no\",)\n",
    "d = {\"mom\": \"ionic\"}\n",
    "blender(\"yes\", kid=\"covalent\", *t, **d)"
   ]
  },
  {
   "cell_type": "code",
   "execution_count": null,
   "metadata": {
    "collapsed": false
   },
   "outputs": [],
   "source": [
    "def momentum_energy(m, v):\n",
    "    p = m * v\n",
    "    e = 0.5 * m * v**2\n",
    "    return p, e"
   ]
  },
  {
   "cell_type": "code",
   "execution_count": null,
   "metadata": {
    "collapsed": false
   },
   "outputs": [],
   "source": [
    "# returns a tuple\n",
    "p_e = momentum_energy(42.0, 65.0)\n",
    "print(p_e)"
   ]
  },
  {
   "cell_type": "code",
   "execution_count": null,
   "metadata": {
    "collapsed": false
   },
   "outputs": [],
   "source": [
    "# unpacks the tuple\n",
    "mom, eng = momentum_energy(42.0, 65.0)\n",
    "print(mom)"
   ]
  },
  {
   "cell_type": "markdown",
   "metadata": {},
   "source": [
    "## Scope"
   ]
  },
  {
   "cell_type": "code",
   "execution_count": null,
   "metadata": {
    "collapsed": false
   },
   "outputs": [],
   "source": [
    "# global scope\n",
    "a = 6\n",
    "b = 42\n",
    "\n",
    "def func(x, y):\n",
    "    # local scope\n",
    "    z = 16\n",
    "    return a*x + b*y + z\n",
    "\n",
    "# global scope\n",
    "c = func(1, 5)"
   ]
  },
  {
   "cell_type": "code",
   "execution_count": null,
   "metadata": {
    "collapsed": false
   },
   "outputs": [],
   "source": [
    "# global scope\n",
    "a = 6\n",
    "b = 42\n",
    "\n",
    "def outer(m, n):\n",
    "    # outer's scope\n",
    "    p = 10 \n",
    "\n",
    "    def inner(x, y):\n",
    "        # inner's scope\n",
    "        return a*p*x + b*n*y\n",
    "\n",
    "    # outer's scope\n",
    "    return inner(m+1, n+1)\n",
    "\n",
    "# global scope\n",
    "c = outer(1, 5)"
   ]
  },
  {
   "cell_type": "code",
   "execution_count": null,
   "metadata": {
    "collapsed": false
   },
   "outputs": [],
   "source": [
    "a = 6\n",
    "\n",
    "def a_global():\n",
    "    print(a)\n",
    "\n",
    "def a_local():\n",
    "    a = 42\n",
    "    print(a)\n",
    "\n",
    "a_global()\n",
    "a_local()\n",
    "print(a)"
   ]
  },
  {
   "cell_type": "code",
   "execution_count": null,
   "metadata": {
    "collapsed": false
   },
   "outputs": [],
   "source": [
    "a = \"A\"\n",
    "\n",
    "def func():\n",
    "    # you cannot use the global 'a' because...\n",
    "    print(\"Big \" + a)\n",
    "    # a local 'a' is eventually defined!\n",
    "    a = \"a\"\n",
    "    print(\"small \" + a)\n",
    "\n",
    "func()"
   ]
  },
  {
   "cell_type": "code",
   "execution_count": null,
   "metadata": {
    "collapsed": false
   },
   "outputs": [],
   "source": [
    "a = \"A\"\n",
    "\n",
    "def func():\n",
    "    global a\n",
    "    print(\"Big \" + a)\n",
    "    a = \"a\"\n",
    "    print(\"small \" + a)\n",
    "\n",
    "func()\n",
    "print(\"global \" + a)"
   ]
  },
  {
   "cell_type": "markdown",
   "metadata": {},
   "source": [
    "## Recursion"
   ]
  },
  {
   "cell_type": "code",
   "execution_count": null,
   "metadata": {
    "collapsed": false
   },
   "outputs": [],
   "source": [
    "# DO NOT RUN THIS\n",
    "#def func():\n",
    "#    func()"
   ]
  },
  {
   "cell_type": "code",
   "execution_count": null,
   "metadata": {
    "collapsed": false
   },
   "outputs": [],
   "source": [
    "def fib(n):\n",
    "    if n == 0 or n == 1:\n",
    "        return n\n",
    "    else:\n",
    "        return fib(n - 1) + fib(n - 2)"
   ]
  },
  {
   "cell_type": "code",
   "execution_count": null,
   "metadata": {
    "collapsed": false
   },
   "outputs": [],
   "source": [
    "import sys\n",
    "sys.getrecursionlimit()   # return the current limit\n",
    "sys.setrecursionlimit(8128)  # change the limit to 8128"
   ]
  },
  {
   "cell_type": "markdown",
   "metadata": {},
   "source": [
    "## Anonymous/Lambda functions"
   ]
  },
  {
   "cell_type": "code",
   "execution_count": null,
   "metadata": {
    "collapsed": false
   },
   "outputs": [],
   "source": [
    "# a simple lambda\n",
    "lambda x: x**2"
   ]
  },
  {
   "cell_type": "code",
   "execution_count": null,
   "metadata": {
    "collapsed": false
   },
   "outputs": [],
   "source": [
    "# a lambda that is called after it is defined\n",
    "(lambda x, y=10: 2*x + y)(42)"
   ]
  },
  {
   "cell_type": "code",
   "execution_count": null,
   "metadata": {
    "collapsed": false
   },
   "outputs": [],
   "source": [
    "# just because it is anonymous doesn't mean we can't give it a name!\n",
    "f = lambda: [x**2 for x in range(10)]\n",
    "f()"
   ]
  },
  {
   "cell_type": "code",
   "execution_count": null,
   "metadata": {
    "collapsed": false
   },
   "outputs": [],
   "source": [
    "# a lambda as a keyword argument f in another function\n",
    "def func(vals, f=lambda x: sum(x)/len(x)):\n",
    "    f(vals)"
   ]
  },
  {
   "cell_type": "code",
   "execution_count": null,
   "metadata": {
    "collapsed": false
   },
   "outputs": [],
   "source": [
    "# a lambda as a keyword argument in a function call\n",
    "func([6, 28, 496, 8128], lambda data: sum([x**2 for x in data]))"
   ]
  },
  {
   "cell_type": "code",
   "execution_count": null,
   "metadata": {
    "collapsed": false
   },
   "outputs": [],
   "source": [
    "nums = [8128, 6, 496, 28]"
   ]
  },
  {
   "cell_type": "code",
   "execution_count": null,
   "metadata": {
    "collapsed": false
   },
   "outputs": [],
   "source": [
    "sorted(nums)"
   ]
  },
  {
   "cell_type": "code",
   "execution_count": null,
   "metadata": {
    "collapsed": false
   },
   "outputs": [],
   "source": [
    "sorted(nums, key=lambda x: x%13)"
   ]
  },
  {
   "cell_type": "markdown",
   "metadata": {},
   "source": [
    "## Generators"
   ]
  },
  {
   "cell_type": "code",
   "execution_count": null,
   "metadata": {
    "collapsed": false
   },
   "outputs": [],
   "source": [
    "def countdown():\n",
    "    yield 3\n",
    "    yield 2\n",
    "    yield 1\n",
    "    yield 'Blast off!'"
   ]
  },
  {
   "cell_type": "code",
   "execution_count": null,
   "metadata": {
    "collapsed": false
   },
   "outputs": [],
   "source": [
    "# generator\n",
    "g = countdown()"
   ]
  },
  {
   "cell_type": "code",
   "execution_count": null,
   "metadata": {
    "collapsed": false
   },
   "outputs": [],
   "source": [
    "next(g)"
   ]
  },
  {
   "cell_type": "code",
   "execution_count": null,
   "metadata": {
    "collapsed": false
   },
   "outputs": [],
   "source": [
    "x = next(g)\n",
    "print(x)"
   ]
  },
  {
   "cell_type": "code",
   "execution_count": null,
   "metadata": {
    "collapsed": false
   },
   "outputs": [],
   "source": [
    "y, z = next(g), next(g)\n",
    "print(z)"
   ]
  },
  {
   "cell_type": "code",
   "execution_count": null,
   "metadata": {
    "collapsed": false
   },
   "outputs": [],
   "source": [
    "next(g)"
   ]
  },
  {
   "cell_type": "code",
   "execution_count": null,
   "metadata": {
    "collapsed": false
   },
   "outputs": [],
   "source": [
    "for t in countdown():\n",
    "    if isinstance(t, int):\n",
    "        message = \"T-\" + str(t)\n",
    "    else:\n",
    "        message = t\n",
    "    print(message)"
   ]
  },
  {
   "cell_type": "code",
   "execution_count": null,
   "metadata": {
    "collapsed": false
   },
   "outputs": [],
   "source": [
    "def square_plus_one(n):\n",
    "    for x in range(n):\n",
    "        x2 = x * x\n",
    "        yield x2 + 1"
   ]
  },
  {
   "cell_type": "code",
   "execution_count": null,
   "metadata": {
    "collapsed": false
   },
   "outputs": [],
   "source": [
    "for sp1 in square_plus_one(3):\n",
    "    print(sp1)"
   ]
  },
  {
   "cell_type": "code",
   "execution_count": null,
   "metadata": {
    "collapsed": false
   },
   "outputs": [],
   "source": [
    "# define a subgenerator\n",
    "def yield_all(x):\n",
    "    for i in x:\n",
    "        yield i\n",
    "\n",
    "# palindrome using yield froms\n",
    "def palindromize(x):\n",
    "    yield from yield_all(x)\n",
    "    yield from yield_all(x[::-1])\n",
    "\n",
    "# the above is equivalent to this full expansion:\n",
    "def palindromize_explicit(x):\n",
    "    for i in x:\n",
    "        yield i\n",
    "    for i in x[::-1]:\n",
    "        yield i"
   ]
  },
  {
   "cell_type": "markdown",
   "metadata": {},
   "source": [
    "## Decorators"
   ]
  },
  {
   "cell_type": "code",
   "execution_count": null,
   "metadata": {
    "collapsed": false
   },
   "outputs": [],
   "source": [
    "def null(f):\n",
    "    \"\"\"Always return None.\"\"\"\n",
    "    return\n",
    "\n",
    "def identity(f):\n",
    "    \"\"\"Return the function.\"\"\"\n",
    "    return f\n",
    "\n",
    "def self_referential(f):\n",
    "    \"\"\"Return the decorator.\"\"\"\n",
    "    return self_referential"
   ]
  },
  {
   "cell_type": "code",
   "execution_count": null,
   "metadata": {
    "collapsed": false
   },
   "outputs": [],
   "source": [
    "@null\n",
    "def nargs(*args, **kwargs):\n",
    "    return len(args) + len(kwargs)"
   ]
  },
  {
   "cell_type": "code",
   "execution_count": null,
   "metadata": {
    "collapsed": true
   },
   "outputs": [],
   "source": [
    "def nargs(*args, **kwargs):\n",
    "    return len(args) + len(kwargs)\n",
    "nargs = null(nargs)"
   ]
  },
  {
   "cell_type": "code",
   "execution_count": null,
   "metadata": {
    "collapsed": false
   },
   "outputs": [],
   "source": [
    "def plus1(f):\n",
    "    def wrapper(*args, **kwargs):\n",
    "        return f(*args, **kwargs) + 1\n",
    "    return wrapper"
   ]
  },
  {
   "cell_type": "code",
   "execution_count": null,
   "metadata": {
    "collapsed": false
   },
   "outputs": [],
   "source": [
    "@plus1\n",
    "def power(base, x):\n",
    "    return base**x\n",
    "\n",
    "power(4, 2)"
   ]
  },
  {
   "cell_type": "code",
   "execution_count": null,
   "metadata": {
    "collapsed": false
   },
   "outputs": [],
   "source": [
    "@plus1\n",
    "@identity\n",
    "@plus1\n",
    "@plus1\n",
    "def root(x):\n",
    "    return x**0.5\n",
    "\n",
    "root(4)"
   ]
  },
  {
   "cell_type": "code",
   "execution_count": null,
   "metadata": {
    "collapsed": false
   },
   "outputs": [],
   "source": [
    "def plus_n(n):\n",
    "    def dec(f):\n",
    "        def wrapper(*args, **kwargs):\n",
    "            return f(*args, **kwargs) + n\n",
    "        return wrapper\n",
    "    return dec"
   ]
  },
  {
   "cell_type": "code",
   "execution_count": null,
   "metadata": {
    "collapsed": false
   },
   "outputs": [],
   "source": [
    "@plus_n(6)\n",
    "def root(x):\n",
    "    return x**0.5\n",
    "\n",
    "root(4)"
   ]
  },
  {
   "cell_type": "code",
   "execution_count": null,
   "metadata": {
    "collapsed": false
   },
   "outputs": [],
   "source": [
    "max = plus1(max)"
   ]
  },
  {
   "cell_type": "code",
   "execution_count": null,
   "metadata": {
    "collapsed": false
   },
   "outputs": [],
   "source": []
  },
  {
   "cell_type": "markdown",
   "metadata": {},
   "source": [
    "## Classes and objects"
   ]
  },
  {
   "cell_type": "code",
   "execution_count": null,
   "metadata": {
    "collapsed": false
   },
   "outputs": [],
   "source": [
    "a = 1\n",
    "help(a)"
   ]
  },
  {
   "cell_type": "code",
   "execution_count": null,
   "metadata": {
    "collapsed": false
   },
   "outputs": [],
   "source": [
    "a = 1\n",
    "dir(a)"
   ]
  },
  {
   "cell_type": "code",
   "execution_count": null,
   "metadata": {
    "collapsed": false
   },
   "outputs": [],
   "source": [
    "a = 1\n",
    "a.__abs__()"
   ]
  },
  {
   "cell_type": "code",
   "execution_count": null,
   "metadata": {
    "collapsed": false
   },
   "outputs": [],
   "source": [
    "b = -2\n",
    "b.__abs__()"
   ]
  },
  {
   "cell_type": "code",
   "execution_count": null,
   "metadata": {
    "collapsed": false
   },
   "outputs": [],
   "source": [
    "a = 1\n",
    "abs(a)"
   ]
  },
  {
   "cell_type": "code",
   "execution_count": null,
   "metadata": {
    "collapsed": false
   },
   "outputs": [],
   "source": [
    "b = -2\n",
    "abs(b)"
   ]
  },
  {
   "cell_type": "code",
   "execution_count": null,
   "metadata": {
    "collapsed": false
   },
   "outputs": [],
   "source": [
    "import math\n",
    "dir(math.sin)"
   ]
  },
  {
   "cell_type": "code",
   "execution_count": null,
   "metadata": {
    "collapsed": false
   },
   "outputs": [],
   "source": [
    "import math \n",
    "math.sin.__doc__"
   ]
  },
  {
   "cell_type": "code",
   "execution_count": null,
   "metadata": {
    "collapsed": false
   },
   "outputs": [],
   "source": [
    "class Particle(object):\n",
    "    \"\"\"A particle is a constituent unit of the universe.\"\"\"\n",
    "    # class body definition here"
   ]
  },
  {
   "cell_type": "code",
   "execution_count": null,
   "metadata": {
    "collapsed": false
   },
   "outputs": [],
   "source": [
    "class Particle(object):\n",
    "    \"\"\"A particle is a constituent unit of the universe.\"\"\"\n",
    "    roar = \"I am a particle!\" "
   ]
  },
  {
   "cell_type": "code",
   "execution_count": null,
   "metadata": {
    "collapsed": false
   },
   "outputs": [],
   "source": [
    "print(Particle.roar)"
   ]
  },
  {
   "cell_type": "code",
   "execution_count": null,
   "metadata": {
    "collapsed": false
   },
   "outputs": [],
   "source": [
    "# import the particle module\n",
    "higgs = Particle()\n",
    "print(higgs.roar)"
   ]
  },
  {
   "cell_type": "code",
   "execution_count": null,
   "metadata": {
    "collapsed": false
   },
   "outputs": [],
   "source": [
    "# create an empty list to hold observed particle data\n",
    "obs = []\n",
    "\n",
    "# append the first particle\n",
    "obs.append(Particle())\n",
    "\n",
    "# assign its position\n",
    "obs[0].r = {'x': 100.0, 'y': 38.0, 'z': -42.0}\n",
    "\n",
    "# append the second particle\n",
    "obs.append(Particle())\n",
    "\n",
    "# assign the position of the second particle\n",
    "obs[1].r = {'x': 0.01, 'y': 99.0, 'z': 32.0}\n",
    "\n",
    "# print the positions of each particle\n",
    "print(obs[0].r)\n",
    "print(obs[1].r)"
   ]
  },
  {
   "cell_type": "code",
   "execution_count": null,
   "metadata": {
    "collapsed": false
   },
   "outputs": [],
   "source": [
    "class Particle(object):\n",
    "    \"\"\"A particle is a constituent unit of the universe.\n",
    "    \n",
    "    Attributes\n",
    "    ----------\n",
    "    c : charge in units of [e]\n",
    "    m : mass in units of [kg]\n",
    "    r : position in units of [meters]\n",
    "    \"\"\"\n",
    "\n",
    "    roar = \"I am a particle!\"\n",
    "\n",
    "    def __init__(self):\n",
    "        \"\"\"Initializes the particle with default values for \n",
    "        charge c, mass m, and position r.\n",
    "        \"\"\"\n",
    "        self.c = 0\n",
    "        self.m = 0\n",
    "        self.r = {'x': 0, 'y': 0, 'z': 0}\n"
   ]
  },
  {
   "cell_type": "code",
   "execution_count": null,
   "metadata": {
    "collapsed": false
   },
   "outputs": [],
   "source": [
    "class Particle(object):\n",
    "    \"\"\"A particle is a constituent unit of the universe.\n",
    "    \n",
    "    Attributes\n",
    "    ----------\n",
    "    c : charge in units of [e]\n",
    "    m : mass in units of [kg]\n",
    "    r : position in units of [meters]\n",
    "    \"\"\"\n",
    "\n",
    "    roar = \"I am a particle!\"\n",
    "\n",
    "    def __init__(self, charge, mass, position): \n",
    "        \"\"\"Initializes the particle with supplied values for \n",
    "        charge c, mass m, and position r.\n",
    "        \"\"\"\n",
    "        self.c = charge\n",
    "        self.m = mass\n",
    "        self.r = position\n",
    "\n",
    "    def hear_me(self):\n",
    "        myroar = self.roar + (\n",
    "            \"  My charge is:     \" + str(self.c) + \n",
    "            \"  My mass is:       \" + str(self.m) +\n",
    "            \"  My x position is: \" + str(self.r['x']) +\n",
    "            \"  My y position is: \" + str(self.r['y']) +\n",
    "            \"  My z position is: \" + str(self.r['z']))\n",
    "        print(myroar)"
   ]
  },
  {
   "cell_type": "code",
   "execution_count": null,
   "metadata": {
    "collapsed": false
   },
   "outputs": [],
   "source": [
    "from scipy import constants\n",
    "\n",
    "m_p = constants.m_p\n",
    "r_p = {'x': 1, 'y': 1, 'z': 53}\n",
    "a_p = Particle(1, m_p, r_p)\n",
    "a_p.hear_me()"
   ]
  },
  {
   "cell_type": "code",
   "execution_count": null,
   "metadata": {
    "collapsed": false
   },
   "outputs": [],
   "source": [
    "def total_charge(particles):\n",
    "    tot = 0\n",
    "    for p in particles:\n",
    "        tot += p.c\n",
    "    return tot"
   ]
  },
  {
   "cell_type": "code",
   "execution_count": null,
   "metadata": {
    "collapsed": false
   },
   "outputs": [],
   "source": [
    "def total_charge(collection):\n",
    "    tot = 0\n",
    "    for p in collection:\n",
    "        if isinstance(p, Particle):\n",
    "            tot += p.c\n",
    "    return tot"
   ]
  },
  {
   "cell_type": "code",
   "execution_count": null,
   "metadata": {
    "collapsed": false
   },
   "outputs": [],
   "source": [
    "# elementary.py\n",
    "class ElementaryParticle(Particle):\n",
    "\n",
    "    roar = \"I am an Elementary Particle!\"\n",
    "    \n",
    "    def __init__(self, charge, mass, position, spin):\n",
    "        super().__init__(charge, mass, position)\n",
    "        \n",
    "        self.s = spin\n",
    "        self.is_fermion = bool(spin % 1.0)\n",
    "        self.is_boson = not self.is_fermion"
   ]
  },
  {
   "cell_type": "code",
   "execution_count": null,
   "metadata": {
    "collapsed": false
   },
   "outputs": [],
   "source": [
    "spin = 1.5\n",
    "m_p = constants.m_e\n",
    "r_p = {'x': 1, 'y': 11, 'z': 12}\n",
    "p = ElementaryParticle(-1, m_p, r_p, spin)\n",
    "p.s\n",
    "p.c\n",
    "p.hear_me()"
   ]
  },
  {
   "cell_type": "code",
   "execution_count": null,
   "metadata": {
    "collapsed": false
   },
   "outputs": [],
   "source": [
    "def add_is_particle(cls):\n",
    "    cls.is_particle = True\n",
    "    return cls\n",
    "\n",
    "\n",
    "@add_is_particle\n",
    "class Particle(object):\n",
    "    \"\"\"A particle is a constituent unit of the universe.\"\"\"\n",
    "\n",
    "    # ... other parts of the class definition ..."
   ]
  },
  {
   "cell_type": "code",
   "execution_count": null,
   "metadata": {
    "collapsed": false
   },
   "outputs": [],
   "source": [
    "from math import sqrt\n",
    "\n",
    "def add_distance(cls):\n",
    "    def distance(self, other): \n",
    "        d2 = 0.0\n",
    "        for axis in ['x', 'y', 'z']:\n",
    "            d2 += (self.r[axis] - other.r[axis])**2\n",
    "        d = sqrt(d2)\n",
    "        return d\n",
    "    cls.distance = distance\n",
    "    return cls "
   ]
  },
  {
   "cell_type": "code",
   "execution_count": null,
   "metadata": {
    "collapsed": true
   },
   "outputs": [],
   "source": [
    "@add_distance\n",
    "@add_is_particle\n",
    "class Particle(object):\n",
    "    \"\"\"A particle is a constituent unit of the universe.\"\"\"\n",
    "\n",
    "    roar = \"I am a particle!\"\n",
    "\n",
    "    def __init__(self, charge, mass, position): \n",
    "        \"\"\"Initializes the particle with supplied values for \n",
    "        charge c, mass m, and position r.\n",
    "        \"\"\"\n",
    "        self.c = charge\n",
    "        self.m = mass\n",
    "        self.r = position\n",
    "\n",
    "    def hear_me(self):\n",
    "        myroar = self.roar + (\n",
    "            \"  My charge is:     \" + str(self.c) + \n",
    "            \"  My mass is:       \" + str(self.m) +\n",
    "            \"  My x position is: \" + str(self.r['x']) +\n",
    "            \"  My y position is: \" + str(self.r['y']) +\n",
    "            \"  My z position is: \" + str(self.r['z']))\n",
    "        print(myroar)"
   ]
  },
  {
   "cell_type": "code",
   "execution_count": null,
   "metadata": {
    "collapsed": true
   },
   "outputs": [],
   "source": [
    "m_p = constants.m_p\n",
    "r_p = {'x': 1, 'y': 1, 'z': 53}\n",
    "p1 = Particle(1, m_p, r_p)\n",
    "\n",
    "r_p = {'x': 1, 'y': 0, 'z': 3}\n",
    "p2 = Particle(1, m_p, r_p)\n",
    "\n"
   ]
  },
  {
   "cell_type": "code",
   "execution_count": null,
   "metadata": {
    "collapsed": false
   },
   "outputs": [],
   "source": [
    "p1.distance(p2)"
   ]
  },
  {
   "cell_type": "code",
   "execution_count": null,
   "metadata": {
    "collapsed": true
   },
   "outputs": [],
   "source": []
  }
 ],
 "metadata": {
  "kernelspec": {
   "display_name": "Python 3",
   "language": "python",
   "name": "python3"
  },
  "language_info": {
   "codemirror_mode": {
    "name": "ipython",
    "version": 3
   },
   "file_extension": ".py",
   "mimetype": "text/x-python",
   "name": "python",
   "nbconvert_exporter": "python",
   "pygments_lexer": "ipython3",
   "version": "3.5.1"
  }
 },
 "nbformat": 4,
 "nbformat_minor": 0
}
