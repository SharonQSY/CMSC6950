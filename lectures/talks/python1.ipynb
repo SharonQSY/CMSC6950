{
 "cells": [
  {
   "cell_type": "markdown",
   "metadata": {},
   "source": [
    "# Python Basics (Chapter 2)"
   ]
  },
  {
   "cell_type": "markdown",
   "metadata": {},
   "source": [
    "## Why Python?"
   ]
  },
  {
   "cell_type": "markdown",
   "metadata": {},
   "source": [
    "### Two things determine time to solution:\n",
    "- How long it takes to write a program (human time)\n",
    "- How long it takes that program to run (machine time)\n",
    "\n",
    "<img src=\"https://itb.biologie.hu-berlin.de/~zito/teaching/SC/lec/img/py01/human_vs_machine_time.png\" alt=\"machine vs human speed\" width=\"50%\">"
   ]
  },
  {
   "cell_type": "code",
   "execution_count": null,
   "metadata": {
    "collapsed": false
   },
   "outputs": [],
   "source": [
    "print(\"Hello Sir Newton.\")"
   ]
  },
  {
   "cell_type": "markdown",
   "metadata": {},
   "source": [
    "What to write in the terminal:\n",
    "\n",
    "```\n",
    "$ ipython\n",
    "Python 2.7.5+ (default, Sep 19 2013, 13:48:49) \n",
    "Type \"copyright\", \"credits\" or \"license\" for more information.\n",
    "\n",
    "IPython 1.1.0 -- An enhanced Interactive Python.\n",
    "?         -> Introduction and overview of IPython's features.\n",
    "%quickref -> Quick reference.\n",
    "help      -> Python's own help system.\n",
    "object?   -> Details about 'object', use 'object??' for extra details.\n",
    "\n",
    "In [1]: print(\"Good day, Madam Curie.\")\n",
    "Good day, Madam Curie.\n",
    "\n",
    "In [2]: \n",
    "```"
   ]
  },
  {
   "cell_type": "code",
   "execution_count": null,
   "metadata": {
    "collapsed": false
   },
   "outputs": [],
   "source": [
    "print(\"Hey Isaac, what's Newton?!\")\n",
    "print(\"How is it going, Gottfried?\")"
   ]
  },
  {
   "cell_type": "code",
   "execution_count": null,
   "metadata": {
    "collapsed": false
   },
   "outputs": [],
   "source": [
    "h_bar = 1.05457e-34"
   ]
  },
  {
   "cell_type": "code",
   "execution_count": null,
   "metadata": {
    "collapsed": false
   },
   "outputs": [],
   "source": [
    "2plus_forty = 42  # bad"
   ]
  },
  {
   "cell_type": "code",
   "execution_count": null,
   "metadata": {
    "collapsed": false
   },
   "outputs": [],
   "source": [
    "two_plus40 = 42   # good"
   ]
  },
  {
   "cell_type": "code",
   "execution_count": null,
   "metadata": {
    "collapsed": false
   },
   "outputs": [],
   "source": [
    "pi = 3.14159\n",
    "h = 2 * pi * h_bar\n",
    "print(h)"
   ]
  },
  {
   "cell_type": "code",
   "execution_count": null,
   "metadata": {
    "collapsed": false
   },
   "outputs": [],
   "source": [
    "dims = 3                   # int, only digits\n",
    "ndim = 3.0                 # float, because of the '.'\n",
    "h_bar = 1.05457e-34        # float, because of the '.' or 'e'\n",
    "label = \"Energy (in MeV)\"  # str, quotes surround the text"
   ]
  },
  {
   "cell_type": "code",
   "execution_count": null,
   "metadata": {
    "collapsed": false
   },
   "outputs": [],
   "source": [
    "type(h_bar)"
   ]
  },
  {
   "cell_type": "code",
   "execution_count": null,
   "metadata": {
    "collapsed": false
   },
   "outputs": [],
   "source": [
    "type(42)"
   ]
  },
  {
   "cell_type": "code",
   "execution_count": null,
   "metadata": {
    "collapsed": false
   },
   "outputs": [],
   "source": [
    "float(42)"
   ]
  },
  {
   "cell_type": "code",
   "execution_count": null,
   "metadata": {
    "collapsed": false
   },
   "outputs": [],
   "source": [
    "int(\"28\")"
   ]
  },
  {
   "cell_type": "code",
   "execution_count": null,
   "metadata": {
    "collapsed": false
   },
   "outputs": [],
   "source": [
    "int(\"quark\")"
   ]
  },
  {
   "cell_type": "code",
   "execution_count": null,
   "metadata": {
    "collapsed": false
   },
   "outputs": [],
   "source": [
    "x = 3\n",
    "x = 1.05457e-34\n",
    "x = \"Energy (in MeV)\""
   ]
  },
  {
   "cell_type": "code",
   "execution_count": null,
   "metadata": {
    "collapsed": false
   },
   "outputs": [],
   "source": [
    "bool(0)"
   ]
  },
  {
   "cell_type": "code",
   "execution_count": null,
   "metadata": {
    "collapsed": false
   },
   "outputs": [],
   "source": [
    "bool(\"Do we need Oxygen?\")"
   ]
  },
  {
   "cell_type": "code",
   "execution_count": null,
   "metadata": {
    "collapsed": false
   },
   "outputs": [],
   "source": [
    "\"Gorgus\" / 2.718"
   ]
  },
  {
   "cell_type": "code",
   "execution_count": null,
   "metadata": {
    "collapsed": false
   },
   "outputs": [],
   "source": [
    "x = 1  # Create x\n",
    "del x  # Destroy x"
   ]
  },
  {
   "cell_type": "code",
   "execution_count": null,
   "metadata": {
    "collapsed": false
   },
   "outputs": [],
   "source": [
    "x = (42 * 65) - 1"
   ]
  },
  {
   "cell_type": "code",
   "execution_count": null,
   "metadata": {
    "collapsed": false
   },
   "outputs": [],
   "source": [
    "42 + 65"
   ]
  },
  {
   "cell_type": "code",
   "execution_count": null,
   "metadata": {
    "collapsed": false
   },
   "outputs": [],
   "source": [
    "(42 + 65) + 1"
   ]
  },
  {
   "cell_type": "code",
   "execution_count": null,
   "metadata": {
    "collapsed": false
   },
   "outputs": [],
   "source": [
    "x = \"Nature abhors a vacuum\"\n",
    "y = 'but loves a mop!'"
   ]
  },
  {
   "cell_type": "code",
   "execution_count": null,
   "metadata": {
    "collapsed": false
   },
   "outputs": [],
   "source": [
    "p = \"proton\""
   ]
  },
  {
   "cell_type": "code",
   "execution_count": null,
   "metadata": {
    "collapsed": false
   },
   "outputs": [],
   "source": [
    "p[1]"
   ]
  },
  {
   "cell_type": "code",
   "execution_count": null,
   "metadata": {
    "collapsed": false
   },
   "outputs": [],
   "source": [
    "p[-1]"
   ]
  },
  {
   "cell_type": "code",
   "execution_count": null,
   "metadata": {
    "collapsed": false
   },
   "outputs": [],
   "source": [
    "p[len(p)-2]  # also works, but why write len(p) all the time?"
   ]
  },
  {
   "cell_type": "code",
   "execution_count": null,
   "metadata": {
    "collapsed": false
   },
   "outputs": [],
   "source": [
    "p[2:5]"
   ]
  },
  {
   "cell_type": "code",
   "execution_count": null,
   "metadata": {
    "collapsed": false
   },
   "outputs": [],
   "source": [
    "p[1:-1]"
   ]
  },
  {
   "cell_type": "code",
   "execution_count": null,
   "metadata": {
    "collapsed": false
   },
   "outputs": [],
   "source": [
    "p[-1:2]"
   ]
  },
  {
   "cell_type": "markdown",
   "metadata": {},
   "source": [
    "### Sometimes string indexing is thought of like this...\n",
    "![String Slicing](https://developers.google.com/edu/python/images/hello.png)"
   ]
  },
  {
   "cell_type": "markdown",
   "metadata": {},
   "source": [
    "### But instead of think of slicing the string between the letters:\n",
    "![String Slicing](https://infohost.nmt.edu/tcc/help/pubs/python/web/fig/slicing.png)"
   ]
  },
  {
   "cell_type": "code",
   "execution_count": null,
   "metadata": {
    "collapsed": false
   },
   "outputs": [],
   "source": [
    "q = \"AaBbCcDdEeFfGgHhIiJjKkLlMmNnOoPpQqRrSsTtUuVvWwXxYyZz\""
   ]
  },
  {
   "cell_type": "code",
   "execution_count": null,
   "metadata": {
    "collapsed": false
   },
   "outputs": [],
   "source": [
    "q[2:-2:2]"
   ]
  },
  {
   "cell_type": "code",
   "execution_count": null,
   "metadata": {
    "collapsed": false
   },
   "outputs": [],
   "source": [
    "q[1::2]"
   ]
  },
  {
   "cell_type": "code",
   "execution_count": null,
   "metadata": {
    "collapsed": false
   },
   "outputs": [],
   "source": [
    "q[::-3]"
   ]
  },
  {
   "cell_type": "code",
   "execution_count": null,
   "metadata": {
    "collapsed": false
   },
   "outputs": [],
   "source": [
    "x = \"neveroddoreven\"\n",
    "x == x[::-1]"
   ]
  },
  {
   "cell_type": "code",
   "execution_count": null,
   "metadata": {
    "collapsed": false
   },
   "outputs": [],
   "source": [
    "my_slice = slice(3, 1415, 9)  # my slice of the pi\n",
    "x[my_slice]"
   ]
  },
  {
   "cell_type": "code",
   "execution_count": null,
   "metadata": {
    "collapsed": false
   },
   "outputs": [],
   "source": [
    "\"kilo\" + \"meter\" "
   ]
  },
  {
   "cell_type": "code",
   "execution_count": null,
   "metadata": {
    "collapsed": false
   },
   "outputs": [],
   "source": [
    "\"x^\" + str(2) "
   ]
  },
  {
   "cell_type": "code",
   "execution_count": null,
   "metadata": {
    "collapsed": false
   },
   "outputs": [],
   "source": [
    "\"newto\" * 10"
   ]
  },
  {
   "cell_type": "code",
   "execution_count": null,
   "metadata": {
    "collapsed": false
   },
   "outputs": [],
   "source": [
    "\"H + H\" + \" -> H2\""
   ]
  },
  {
   "cell_type": "code",
   "execution_count": null,
   "metadata": {
    "collapsed": false
   },
   "outputs": [],
   "source": [
    "x = \"It's easy!\"\n",
    "y = 'The computer said, \"Does not compute.\"'"
   ]
  },
  {
   "cell_type": "code",
   "execution_count": null,
   "metadata": {
    "collapsed": false
   },
   "outputs": [],
   "source": [
    "\"Bones said, \\\"He\\'s dead, Jim.\\\"\""
   ]
  },
  {
   "cell_type": "code",
   "execution_count": null,
   "metadata": {
    "collapsed": false
   },
   "outputs": [],
   "source": [
    "\"\"\"Humpty, he sat on a wall,\n",
    "Then Humpty, he had a great fall.\n",
    "But all the king's horses\n",
    "And men with their forces\n",
    "Couldn't render his entropy small.\n",
    "\"\"\""
   ]
  },
  {
   "cell_type": "code",
   "execution_count": null,
   "metadata": {
    "collapsed": false
   },
   "outputs": [],
   "source": [
    "header = \"  temperature  pressure\\t value \\n\""
   ]
  },
  {
   "cell_type": "code",
   "execution_count": null,
   "metadata": {
    "collapsed": false
   },
   "outputs": [],
   "source": [
    "header.strip()"
   ]
  },
  {
   "cell_type": "code",
   "execution_count": null,
   "metadata": {
    "collapsed": false
   },
   "outputs": [],
   "source": [
    "header.upper()"
   ]
  },
  {
   "cell_type": "code",
   "execution_count": null,
   "metadata": {
    "collapsed": false
   },
   "outputs": [],
   "source": [
    "\"10\".isdigit()"
   ]
  },
  {
   "cell_type": "code",
   "execution_count": null,
   "metadata": {
    "collapsed": false
   },
   "outputs": [],
   "source": [
    "\"10.10\".isdigit()"
   ]
  },
  {
   "cell_type": "code",
   "execution_count": null,
   "metadata": {
    "collapsed": false
   },
   "outputs": [],
   "source": [
    "\"{0} gets into work & then his {1} begins!\".format(\"Hilbert\", \"commute\")"
   ]
  },
  {
   "cell_type": "code",
   "execution_count": null,
   "metadata": {
    "collapsed": false
   },
   "outputs": [],
   "source": [
    "x = 42\n",
    "y = 65.0"
   ]
  },
  {
   "cell_type": "code",
   "execution_count": null,
   "metadata": {
    "collapsed": false
   },
   "outputs": [],
   "source": [
    "\"x={0} y={1}\".format(x, y)"
   ]
  },
  {
   "cell_type": "code",
   "execution_count": null,
   "metadata": {
    "collapsed": false
   },
   "outputs": [],
   "source": [
    "\"x=\" + str(x) + \" y=\" + str(y)"
   ]
  },
  {
   "cell_type": "markdown",
   "metadata": {},
   "source": [
    "# Functions (Chapter 5)\n",
    "\n"
   ]
  },
  {
   "cell_type": "code",
   "execution_count": null,
   "metadata": {
    "collapsed": true
   },
   "outputs": [],
   "source": [
    "def sagan():\n",
    "    quote = \"With insufficient data it is easy to go wrong.\""
   ]
  },
  {
   "cell_type": "code",
   "execution_count": null,
   "metadata": {
    "collapsed": true
   },
   "outputs": [],
   "source": [
    "def null():\n",
    "    pass"
   ]
  },
  {
   "cell_type": "code",
   "execution_count": null,
   "metadata": {
    "collapsed": true
   },
   "outputs": [],
   "source": [
    "# define the function\n",
    "def forty_two():\n",
    "    return 42"
   ]
  },
  {
   "cell_type": "code",
   "execution_count": null,
   "metadata": {
    "collapsed": true
   },
   "outputs": [],
   "source": [
    "# call the function\n",
    "forty_two()"
   ]
  },
  {
   "cell_type": "code",
   "execution_count": null,
   "metadata": {
    "collapsed": true
   },
   "outputs": [],
   "source": [
    "# call the function\n",
    "forty_two()"
   ]
  },
  {
   "cell_type": "code",
   "execution_count": null,
   "metadata": {
    "collapsed": true
   },
   "outputs": [],
   "source": [
    "# call the function, and print the result\n",
    "print(forty_two())"
   ]
  },
  {
   "cell_type": "code",
   "execution_count": null,
   "metadata": {
    "collapsed": true
   },
   "outputs": [],
   "source": [
    "# call the function, assign the result \n",
    "# to x, and print x\n",
    "x = forty_two()\n",
    "print(x)"
   ]
  },
  {
   "cell_type": "markdown",
   "metadata": {},
   "source": [
    "# Python: Flow Control and Logic (Chapter 4)\n",
    "\n",
    "Flow control is a high-level way of programming a computer to make decisions. These\n",
    "decisions can be simple or complicated, executed once or multiple times. The syntax\n",
    "for the different flow control mechanisms varies, but what they all share is that they\n",
    "determine an execution pathway for the program. Python has relatively few forms of\n",
    "flow control. They are conditionals, exceptions, and loops"
   ]
  },
  {
   "cell_type": "markdown",
   "metadata": {},
   "source": [
    "## Conditionals\n",
    "\n",
    "Conditionals are the simplest form of flow control. In English, they follow the syntax\n",
    "“if x is true, then do something; otherwise, do something else.” The shortest conditional\n",
    "is when there is only an if statement on its own. The format for such a statement\n",
    "is as follows:"
   ]
  },
  {
   "cell_type": "code",
   "execution_count": null,
   "metadata": {
    "collapsed": false
   },
   "outputs": [],
   "source": [
    "h_bar = 1.0\n",
    "if h_bar == 1.0:\n",
    "    print(\"h-bar isn't really unity! Resetting...\")\n",
    "    h_bar = 1.05457173e-34"
   ]
  },
  {
   "cell_type": "code",
   "execution_count": null,
   "metadata": {
    "collapsed": false
   },
   "outputs": [],
   "source": [
    "h_bar = 1\n",
    "if h_bar == 1:\n",
    "    print(\"h-bar isn't really unity! Resetting...\")\n",
    "    h_bar = 1.05457173e-34\n",
    "h = h_bar * 2 * 3.14159"
   ]
  },
  {
   "cell_type": "code",
   "execution_count": null,
   "metadata": {
    "collapsed": false
   },
   "outputs": [],
   "source": [
    "1 == 1"
   ]
  },
  {
   "cell_type": "code",
   "execution_count": null,
   "metadata": {
    "collapsed": false
   },
   "outputs": [],
   "source": [
    "1 == 1.0"
   ]
  },
  {
   "cell_type": "code",
   "execution_count": null,
   "metadata": {
    "collapsed": false
   },
   "outputs": [],
   "source": [
    "1 is 1.0"
   ]
  },
  {
   "cell_type": "code",
   "execution_count": null,
   "metadata": {
    "collapsed": false
   },
   "outputs": [],
   "source": [
    "1 is 1"
   ]
  },
  {
   "cell_type": "code",
   "execution_count": null,
   "metadata": {
    "collapsed": false
   },
   "outputs": [],
   "source": [
    "10**10 == 10**10"
   ]
  },
  {
   "cell_type": "code",
   "execution_count": null,
   "metadata": {
    "collapsed": false
   },
   "outputs": [],
   "source": [
    "10**10 is 10**10"
   ]
  },
  {
   "cell_type": "code",
   "execution_count": null,
   "metadata": {
    "collapsed": false
   },
   "outputs": [],
   "source": [
    "None is None"
   ]
  },
  {
   "cell_type": "code",
   "execution_count": null,
   "metadata": {
    "collapsed": false
   },
   "outputs": [],
   "source": [
    "0 is None "
   ]
  },
  {
   "cell_type": "code",
   "execution_count": null,
   "metadata": {
    "collapsed": false
   },
   "outputs": [],
   "source": [
    "0 == None "
   ]
  },
  {
   "cell_type": "markdown",
   "metadata": {},
   "source": [
    "### if-else Statements\n",
    "Every if statement may be followed by an optional else statement. This is the keyword\n",
    "else followed by a colon (:) at the same indentation level as the original if.\n",
    "The <else-block> lines following this are indented just like the if block. The code in\n",
    "the else block is executed when the condition is False:\n",
    "\n",
    "```python\n",
    "if <condition>:\n",
    "    <if-block>\n",
    "else:\n",
    "    <else-block>\n",
    "```"
   ]
  },
  {
   "cell_type": "code",
   "execution_count": null,
   "metadata": {
    "collapsed": true
   },
   "outputs": [],
   "source": [
    "if x == 0:\n",
    "y = 0\n",
    "else:\n",
    "y = sin(1/x)"
   ]
  },
  {
   "cell_type": "markdown",
   "metadata": {},
   "source": [
    "This is equivalent to negating the conditional and switching the if and else blocks:"
   ]
  },
  {
   "cell_type": "code",
   "execution_count": null,
   "metadata": {
    "collapsed": false
   },
   "outputs": [],
   "source": [
    "if x != 0:\n",
    "y = sin(1/x)\n",
    "else:\n",
    "y = 0"
   ]
  },
  {
   "cell_type": "markdown",
   "metadata": {},
   "source": [
    "However, it is generally considered a good practice to use positive conditionals (`==`)\n",
    "rather than negative ones (`!=`)."
   ]
  },
  {
   "cell_type": "markdown",
   "metadata": {},
   "source": [
    "### if-elif-else Statements\n",
    "\n",
    "Python also allows multiple optional elif statements. The elif keyword is an abbreviation\n",
    "for “else if,” and such statements come after the if statement and before the\n",
    "else statement.\n",
    "\n",
    "```python\n",
    "if <condition0>:\n",
    "    <if-block>\n",
    "elif <condition1>:\n",
    "    <elif-block1>\n",
    "elif <condition2>:\n",
    "    <elif-block2>\n",
    "...\n",
    "else:\n",
    "    <else-block>\n",
    "```\n",
    "\n",
    "Suppose that you wanted to design a simple mid-band filter whose signal is 1 if the\n",
    "frequency is between 1 and 10 Hertz and 0 otherwise. This could be done with an if-elif-else \n",
    "statement:"
   ]
  },
  {
   "cell_type": "code",
   "execution_count": null,
   "metadata": {
    "collapsed": false
   },
   "outputs": [],
   "source": [
    "# try changing the value of omega\n",
    "omega = 0.0\n",
    "\n",
    "if omega < 1.0:\n",
    "    signal = 0.0\n",
    "elif omega > 10.0:\n",
    "    signal = 0.0\n",
    "else:\n",
    "    signal = 1.0\n",
    "\n",
    "print(signal)"
   ]
  },
  {
   "cell_type": "markdown",
   "metadata": {},
   "source": [
    "A more realistic example might include ramping on either side of the band:"
   ]
  },
  {
   "cell_type": "code",
   "execution_count": null,
   "metadata": {
    "collapsed": false
   },
   "outputs": [],
   "source": [
    "# try changing the value of omega\n",
    "omega = 0.0\n",
    "\n",
    "if omega < 0.9:\n",
    "    signal = 0.0\n",
    "elif omega > 0.9 and omega < 1.0:\n",
    "    signal = (omega - 0.9) / 0.1\n",
    "elif omega > 10.0 and omega < 10.1:\n",
    "    signal = (10.1 - omega) / 0.1\n",
    "elif omega > 10.1:\n",
    "    signal = 0.0\n",
    "else:\n",
    "    signal = 1.0\n",
    "    \n",
    "print(signal)"
   ]
  },
  {
   "cell_type": "markdown",
   "metadata": {},
   "source": [
    "### if-else Expression\n",
    "simple ifelse conditionals to be evaluated in a single expression. This has the following syntax:\n",
    "\n",
    "```python\n",
    "x if <condition> else y\n",
    "```"
   ]
  },
  {
   "cell_type": "code",
   "execution_count": null,
   "metadata": {
    "collapsed": false
   },
   "outputs": [],
   "source": [
    "h_bar = 1.05457173e-34 if h_bar == 1.0 else h_bar"
   ]
  },
  {
   "cell_type": "markdown",
   "metadata": {},
   "source": [
    "## More examples on functions"
   ]
  },
  {
   "cell_type": "code",
   "execution_count": null,
   "metadata": {
    "collapsed": true
   },
   "outputs": [],
   "source": [
    "def forty_two_or_bust(x):\n",
    "    if x:\n",
    "        print(42)\n",
    "    else:\n",
    "        print(0)\n",
    "\n",
    "# call the function\n",
    "forty_two_or_bust(True)\n",
    "\n",
    "bust = False\n",
    "forty_two_or_bust(bust)\n",
    "\n",
    "def power(base, x):\n",
    "    return base**x\n",
    "\n",
    "from math import sin\n",
    "\n",
    "def sin_inv_x(x):\n",
    "    if x == 0.0:\n",
    "        result = 0.0\n",
    "    else:\n",
    "        result = sin(1.0/x)\n",
    "    return result\n",
    "\n",
    "def power(base, x):\n",
    "    \"\"\"Computes base^x. Both base and x should be integers,\n",
    "    floats, or another numeric type.\n",
    "    \"\"\"\n",
    "    return base**x\n",
    "\n",
    "def line(x, a=1.0, b=0.0):\n",
    "    return a*x + b\n",
    "\n",
    "line(42)            # no keyword args, returns 1*42 + 0\n",
    "\n",
    "line(42, 2)         # a=2, returns 84\n",
    "\n",
    "line(42, b=10)      # b=10, returns 52\n",
    "\n",
    "line(42, b=10, a=2) # returns 94 \n",
    "\n",
    "line(42, a=2, b=10) # also returns 94 "
   ]
  },
  {
   "cell_type": "markdown",
   "metadata": {},
   "source": [
    "## Exercise Checkpoint\n",
    "\n",
    "Work through some of the exercises found here:\n",
    "\n",
    "- http://codingbat.com/python/Warmup-1\n",
    "- http://codingbat.com/python/String-1\n",
    "- http://codingbat.com/python/Logic-1\n",
    "\n",
    "Try and do 2 questions (your choice, or just click on 'chance' for a random one).  \n",
    "Create a new IPython Notebook.  Copy and paste the question you choose in to the notebook, and then copy your solution direction beneath.  \n",
    "\n",
    "At the end of lecture, you will upload your IPython notebook (call it *userid*_codingbat.ipynb) to https://dropitto.me/CMSC6950_2 (password is *mun*)"
   ]
  },
  {
   "cell_type": "markdown",
   "metadata": {},
   "source": [
    "# Python: Essential Containers (Chapter 3)\n",
    "\n",
    "Let’s now delve further into the tools of the Python language. Python comes with a\n",
    "suite of built-in data containers. These are data types that are used to hold many\n",
    "other variables. Much like you might place books on a bookshelf, you can stick integers\n",
    "or floats or strings into these containers. Each container is represented by its own\n",
    "type and has its own unique properties that define it. Major containers that Python\n",
    "supports are list, tuple, set, frozenset, and dict."
   ]
  },
  {
   "cell_type": "markdown",
   "metadata": {},
   "source": [
    "## Lists\n",
    "Lists in Python are one-dimensional, ordered containers whose elements may be any\n",
    "Python objects."
   ]
  },
  {
   "cell_type": "code",
   "execution_count": null,
   "metadata": {
    "collapsed": false
   },
   "outputs": [],
   "source": [
    "[6, 28]"
   ]
  },
  {
   "cell_type": "code",
   "execution_count": null,
   "metadata": {
    "collapsed": false
   },
   "outputs": [],
   "source": [
    "[1e3, -2, \"I am in a list.\"]"
   ]
  },
  {
   "cell_type": "markdown",
   "metadata": {},
   "source": [
    "Anything can go into a list, including other lists!"
   ]
  },
  {
   "cell_type": "code",
   "execution_count": null,
   "metadata": {
    "collapsed": false
   },
   "outputs": [],
   "source": [
    "[[1.0, 0.0], [0.0, 1.0]]"
   ]
  },
  {
   "cell_type": "markdown",
   "metadata": {},
   "source": [
    "You can use the `+` operator on a list.  You can also append to lists \n",
    "in-place using the `append()` or `extend()` method, which adds a single\n",
    "element to the end. `+=` works also."
   ]
  },
  {
   "cell_type": "code",
   "execution_count": null,
   "metadata": {
    "collapsed": false
   },
   "outputs": [],
   "source": [
    "[1, 1] + [2, 3, 5] + [8]"
   ]
  },
  {
   "cell_type": "code",
   "execution_count": null,
   "metadata": {
    "collapsed": false
   },
   "outputs": [],
   "source": [
    "fib = [1, 1, 2, 3, 5, 8]"
   ]
  },
  {
   "cell_type": "code",
   "execution_count": null,
   "metadata": {
    "collapsed": false
   },
   "outputs": [],
   "source": [
    "fib.append(13)\n",
    "fib"
   ]
  },
  {
   "cell_type": "code",
   "execution_count": null,
   "metadata": {
    "collapsed": false
   },
   "outputs": [],
   "source": [
    "fib.extend([21, 34, 55])\n",
    "fib"
   ]
  },
  {
   "cell_type": "code",
   "execution_count": null,
   "metadata": {
    "collapsed": false
   },
   "outputs": [],
   "source": [
    "fib += [89, 144]\n",
    "fib"
   ]
  },
  {
   "cell_type": "markdown",
   "metadata": {},
   "source": [
    "List indexing is exactly the same as string indexing, but instead of returning strings it\n",
    "returns new lists. See “String Indexing” on page 50 for a refresher on how indexing\n",
    "works. Here is how to pull every other element out of a list:"
   ]
  },
  {
   "cell_type": "code",
   "execution_count": null,
   "metadata": {
    "collapsed": false
   },
   "outputs": [],
   "source": [
    "fib[::2]"
   ]
  },
  {
   "cell_type": "code",
   "execution_count": null,
   "metadata": {
    "collapsed": false
   },
   "outputs": [],
   "source": [
    "fib[3] = \"whoops\"\n",
    "fib"
   ]
  },
  {
   "cell_type": "code",
   "execution_count": null,
   "metadata": {
    "collapsed": false
   },
   "outputs": [],
   "source": [
    "del fib[:5]\n",
    "fib"
   ]
  },
  {
   "cell_type": "code",
   "execution_count": null,
   "metadata": {
    "collapsed": false
   },
   "outputs": [],
   "source": [
    "fib[1::2] = [-1, -1, -1] \n",
    "fib "
   ]
  },
  {
   "cell_type": "code",
   "execution_count": null,
   "metadata": {
    "collapsed": false
   },
   "outputs": [],
   "source": [
    "[1, 2, 3] * 6"
   ]
  },
  {
   "cell_type": "code",
   "execution_count": null,
   "metadata": {
    "collapsed": false
   },
   "outputs": [],
   "source": [
    "list(\"F = dp/dt\")"
   ]
  },
  {
   "cell_type": "code",
   "execution_count": null,
   "metadata": {
    "collapsed": false
   },
   "outputs": [],
   "source": [
    "x = []\n",
    "x.append(x)\n",
    "x"
   ]
  },
  {
   "cell_type": "code",
   "execution_count": null,
   "metadata": {
    "collapsed": false
   },
   "outputs": [],
   "source": [
    "x[0]"
   ]
  },
  {
   "cell_type": "code",
   "execution_count": null,
   "metadata": {
    "collapsed": false
   },
   "outputs": [],
   "source": [
    "x[0][0]"
   ]
  },
  {
   "cell_type": "code",
   "execution_count": null,
   "metadata": {
    "collapsed": false
   },
   "outputs": [],
   "source": [
    "x = 42\n",
    "y = x\n",
    "del x"
   ]
  },
  {
   "cell_type": "code",
   "execution_count": null,
   "metadata": {
    "collapsed": false
   },
   "outputs": [],
   "source": [
    "x = [3, 2, 1, \"blast off!\"]\n",
    "y = x\n",
    "y[1] = \"TWO\"\n",
    "print(x)"
   ]
  },
  {
   "cell_type": "markdown",
   "metadata": {},
   "source": [
    "## Tuples\n",
    "\n",
    "Tuples are the immutable form of lists. They behave almost exactly the same as lists in every way, except that \n",
    "\n",
    "- you cannot change any of their values. \n",
    "- There are no `append()` or `extend()` methods, \n",
    "- and there are no in-place operators."
   ]
  },
  {
   "cell_type": "code",
   "execution_count": null,
   "metadata": {
    "collapsed": false
   },
   "outputs": [],
   "source": [
    "a = 1, 2, 5, 3  # length-4 tuple\n",
    "b = (42,)       # length-1 tuple, defined by comma\n",
    "c = (42)        # not a tuple, just the number 42\n",
    "d = ()          # length-0 tuple- no commas means no elements"
   ]
  },
  {
   "cell_type": "code",
   "execution_count": 11,
   "metadata": {
    "collapsed": false
   },
   "outputs": [
    {
     "data": {
      "text/plain": [
       "(1, 2, 3, 4)"
      ]
     },
     "execution_count": 11,
     "metadata": {},
     "output_type": "execute_result"
    }
   ],
   "source": [
    "(1, 2) + (3, 4)"
   ]
  },
  {
   "cell_type": "code",
   "execution_count": 12,
   "metadata": {
    "collapsed": false
   },
   "outputs": [
    {
     "data": {
      "text/plain": [
       "(1, 5, 4)"
      ]
     },
     "execution_count": 12,
     "metadata": {},
     "output_type": "execute_result"
    }
   ],
   "source": [
    "1, 2 + 3, 4"
   ]
  },
  {
   "cell_type": "code",
   "execution_count": 13,
   "metadata": {
    "collapsed": false
   },
   "outputs": [
    {
     "data": {
      "text/plain": [
       "('e', 2.718)"
      ]
     },
     "execution_count": 13,
     "metadata": {},
     "output_type": "execute_result"
    }
   ],
   "source": [
    "tuple([\"e\", 2.718])"
   ]
  },
  {
   "cell_type": "code",
   "execution_count": 14,
   "metadata": {
    "collapsed": false
   },
   "outputs": [
    {
     "data": {
      "text/plain": [
       "(1.0, [2, 4, 8], 16)"
      ]
     },
     "execution_count": 14,
     "metadata": {},
     "output_type": "execute_result"
    }
   ],
   "source": [
    "x = 1.0, [2, 4], 16\n",
    "x[1].append(8)\n",
    "x"
   ]
  },
  {
   "cell_type": "markdown",
   "metadata": {},
   "source": [
    "### Example of using tuples to return values from functions"
   ]
  },
  {
   "cell_type": "code",
   "execution_count": null,
   "metadata": {
    "collapsed": false
   },
   "outputs": [],
   "source": [
    "def momentum_energy(m, v):\n",
    "    p = m * v\n",
    "    e = 0.5 * m * v**2\n",
    "    return p, e"
   ]
  },
  {
   "cell_type": "code",
   "execution_count": null,
   "metadata": {
    "collapsed": false
   },
   "outputs": [],
   "source": [
    "# unpacks the tuple\n",
    "mom, eng = momentum_energy(42.0, 65.0)\n",
    "print(mom)"
   ]
  },
  {
   "cell_type": "code",
   "execution_count": null,
   "metadata": {
    "collapsed": false
   },
   "outputs": [],
   "source": [
    "# returns a tuple\n",
    "p_e = momentum_energy(42.0, 65.0)\n",
    "print(p_e)"
   ]
  },
  {
   "cell_type": "markdown",
   "metadata": {},
   "source": [
    "## Dictionaries\n",
    "\n",
    "Dictionaries are hands down the most important data structure in Python. Everything\n",
    "in Python is a dictionary. A dictionary, or `dict`, is a mutable, unordered collection of unique key/value pairs—this is Python’s native implementation of a hash table. Dictionaries are similar in use to C++ maps, but more closely related to Perl’s hash type, JavaScript objects, and C++’s unordered_map type."
   ]
  },
  {
   "cell_type": "code",
   "execution_count": null,
   "metadata": {
    "collapsed": false
   },
   "outputs": [],
   "source": [
    "# A dictionary on one line that stores info about Einstein\n",
    "al = {\"first\": \"Albert\", \"last\": \"Einstein\", \"birthday\": [1879, 3, 14]}\n",
    "\n",
    "# You can split up dicts onto many lines\n",
    "constants = {\n",
    "    'pi': 3.14159,\n",
    "    \"e\": 2.718,\n",
    "    \"h\": 6.62606957e-34,\n",
    "    True: 1.0,\n",
    "    }\n",
    "\n",
    "# A dict being formed from a list of (key, value) tuples\n",
    "axes = dict([(1, \"x\"), (2, \"y\"), (3, \"z\")])"
   ]
  },
  {
   "cell_type": "code",
   "execution_count": null,
   "metadata": {
    "collapsed": false
   },
   "outputs": [],
   "source": [
    "constants['e']"
   ]
  },
  {
   "cell_type": "code",
   "execution_count": null,
   "metadata": {
    "collapsed": false
   },
   "outputs": [],
   "source": [
    "axes[3]"
   ]
  },
  {
   "cell_type": "code",
   "execution_count": null,
   "metadata": {
    "collapsed": false
   },
   "outputs": [],
   "source": [
    "al['birthday']"
   ]
  },
  {
   "cell_type": "code",
   "execution_count": null,
   "metadata": {
    "collapsed": false
   },
   "outputs": [],
   "source": [
    "constants[False] = 0.0\n",
    "del axes[3]\n",
    "al['first'] = \"You can call me Al\""
   ]
  },
  {
   "cell_type": "code",
   "execution_count": null,
   "metadata": {
    "collapsed": false
   },
   "outputs": [],
   "source": [
    "d = {}\n",
    "d['d'] = d\n",
    "d"
   ]
  },
  {
   "cell_type": "code",
   "execution_count": null,
   "metadata": {
    "collapsed": false
   },
   "outputs": [],
   "source": [
    "{}     # empty dict\n",
    "set()  # empty set"
   ]
  },
  {
   "cell_type": "code",
   "execution_count": null,
   "metadata": {
    "collapsed": false
   },
   "outputs": [],
   "source": [
    "\"N_A\" in constants"
   ]
  },
  {
   "cell_type": "code",
   "execution_count": null,
   "metadata": {
    "collapsed": false
   },
   "outputs": [],
   "source": [
    "axes.update({1: 'r', 2: 'phi', 3: 'theta'})\n",
    "axes"
   ]
  },
  {
   "cell_type": "markdown",
   "metadata": {},
   "source": [
    "## Loops\n",
    "While computers are not superb at synthesizing new tasks, they are very good at performing\n",
    "the same tasks over and over"
   ]
  },
  {
   "cell_type": "code",
   "execution_count": null,
   "metadata": {
    "collapsed": false
   },
   "outputs": [],
   "source": [
    "t = 3\n",
    "while 0 < t:\n",
    "    print(\"t-minus \" + str(t))\n",
    "    t = t - 1\n",
    "print(\"blastoff!\")"
   ]
  },
  {
   "cell_type": "code",
   "execution_count": null,
   "metadata": {
    "collapsed": false
   },
   "outputs": [],
   "source": [
    "while False:\n",
    "    print(\"I am sorry, Dave.\")\n",
    "print(\"I can't print that for you.\")"
   ]
  },
  {
   "cell_type": "code",
   "execution_count": null,
   "metadata": {
    "collapsed": false
   },
   "outputs": [],
   "source": [
    "# Uncomment the following to print forever\n",
    "#t = 3\n",
    "#while True:\n",
    "#    print(\"t-minus \" + str(t))\n",
    "#    t = t - 1\n",
    "#print(\"blastoff!\")"
   ]
  },
  {
   "cell_type": "markdown",
   "metadata": {},
   "source": [
    "## Loops with lists and dictionaries"
   ]
  },
  {
   "cell_type": "code",
   "execution_count": null,
   "metadata": {
    "collapsed": false
   },
   "outputs": [],
   "source": [
    "fib = [1, 1]\n",
    "while True:\n",
    "    x = fib[-2] + fib[-1]\n",
    "    if x%12 == 0:\n",
    "        break\n",
    "    fib.append(x)"
   ]
  },
  {
   "cell_type": "code",
   "execution_count": null,
   "metadata": {
    "collapsed": false
   },
   "outputs": [],
   "source": [
    "for t in [3, 2, 1]:\n",
    "    print(\"t-minus \" + str(t))\n",
    "print(\"blastoff!\")"
   ]
  },
  {
   "cell_type": "code",
   "execution_count": null,
   "metadata": {
    "collapsed": false
   },
   "outputs": [],
   "source": [
    "for t in [7, 6, 5, 4, 3, 2, 1]:\n",
    "    if t%2 == 0:\n",
    "        continue\n",
    "    print(\"t-minus \" + str(t))\n",
    "print(\"blastoff!\")"
   ]
  },
  {
   "cell_type": "code",
   "execution_count": null,
   "metadata": {
    "collapsed": false
   },
   "outputs": [],
   "source": [
    "for letter in \"Gorgus\":\n",
    "    print(letter)"
   ]
  },
  {
   "cell_type": "code",
   "execution_count": null,
   "metadata": {
    "collapsed": false
   },
   "outputs": [],
   "source": [
    "for x in {\"Gorgus\", 0, True}:\n",
    "    print(x)"
   ]
  },
  {
   "cell_type": "code",
   "execution_count": null,
   "metadata": {
    "collapsed": false
   },
   "outputs": [],
   "source": [
    "d = {\"first\": \"Albert\", \n",
    "     \"last\": \"Einstein\", \n",
    "     \"birthday\": [1879, 3, 14]}\n",
    "\n",
    "for key in d:\n",
    "    print(key)\n",
    "    print(d[key])\n",
    "    print(\"======\")"
   ]
  },
  {
   "cell_type": "code",
   "execution_count": null,
   "metadata": {
    "collapsed": false
   },
   "outputs": [],
   "source": [
    "d = {\"first\": \"Albert\", \n",
    "     \"last\": \"Einstein\", \n",
    "     \"birthday\": [1879, 3, 14]}\n",
    "\n",
    "print(\"Keys:\")\n",
    "for key in d.keys():\n",
    "    print(key)\n",
    "\n",
    "print(\"\\n======\\n\")\n",
    "\n",
    "print(\"Values:\")\n",
    "for value in d.values():\n",
    "    print(value)\n",
    "\n",
    "print(\"\\n======\\n\")\n",
    "\n",
    "print(\"Items:\")\n",
    "for key, value in d.items():\n",
    "    print(key, value)"
   ]
  },
  {
   "cell_type": "code",
   "execution_count": null,
   "metadata": {
    "collapsed": false
   },
   "outputs": [],
   "source": [
    "for item in d.items():\n",
    "    print(item)"
   ]
  },
  {
   "cell_type": "code",
   "execution_count": null,
   "metadata": {
    "collapsed": false
   },
   "outputs": [],
   "source": [
    "quarks = {'up', 'down', 'top', 'bottom', 'charm', 'strange'}\n",
    "for quark in quarks:\n",
    "    print(quark)"
   ]
  },
  {
   "cell_type": "code",
   "execution_count": null,
   "metadata": {
    "collapsed": false
   },
   "outputs": [],
   "source": [
    "upper_quarks = []\n",
    "for quark in quarks:\n",
    "    upper_quarks.append(quark.upper())"
   ]
  },
  {
   "cell_type": "code",
   "execution_count": null,
   "metadata": {
    "collapsed": false
   },
   "outputs": [],
   "source": [
    "upper_quarks = [quark.upper() for quark in quarks]\n",
    "upper_quarks"
   ]
  },
  {
   "cell_type": "code",
   "execution_count": null,
   "metadata": {
    "collapsed": false
   },
   "outputs": [],
   "source": [
    "entries = ['top', 'CHARm', 'Top', 'sTraNGe', 'strangE', 'top']\n",
    "quarks = {quark.lower() for quark in entries}\n",
    "quarks"
   ]
  },
  {
   "cell_type": "code",
   "execution_count": null,
   "metadata": {
    "collapsed": false
   },
   "outputs": [],
   "source": [
    "entries = [1, 10, 12.5, 65, 88]\n",
    "results = {x: x**2 + 42 for x in entries}\n",
    "results"
   ]
  },
  {
   "cell_type": "code",
   "execution_count": null,
   "metadata": {
    "collapsed": false
   },
   "outputs": [],
   "source": [
    "{x**2 for x in fib if x%5 == 0}"
   ]
  },
  {
   "cell_type": "code",
   "execution_count": null,
   "metadata": {
    "collapsed": false
   },
   "outputs": [],
   "source": [
    "coords = {'x': 1, 'y': 2, 'z': 3, 'r': 1, 'theta': 2, 'phi': 3}\n",
    "polar_keys = {'r', 'theta', 'phi'}\n",
    "polar = {key: value for key, value in coords.items() if key in polar_keys}\n",
    "polar"
   ]
  },
  {
   "cell_type": "markdown",
   "metadata": {},
   "source": [
    "## Exercise Checkpoint\n",
    "\n",
    "Work through some of the exercises found here:\n",
    "\n",
    "- http://codingbat.com/python/Warmup-2\n",
    "- http://codingbat.com/python/List-1\n",
    "- http://codingbat.com/python/List-2\n",
    "\n",
    "Do 2 questions (your choice, or just click on 'chance' for a random one) from each page (6 in total) \n",
    "Put your questions in the IPython notebook you created earlier.  Copy and paste the question you choose in to the notebook, and then copy your solution direction beneath.  \n",
    "\n",
    "At the end of lecture, you will upload your IPython notebook (call it *userid*_codingbat.ipynb) to https://dropitto.me/CMSC6950_2 (password is *mun*)"
   ]
  },
  {
   "cell_type": "markdown",
   "metadata": {},
   "source": [
    "# Assignment 2\n",
    "1. Upload your completed file userid_codingbat.ipynb to https://dropitto.me/CMSC6950_2\n",
    "2. Work through any 10 exercises found at http://www.ling.gu.se/~lager/python_exercises.html\n",
    "It is up to you which 10 problems you think are interesting; the goal here is to practice using Python and practice simple programming.  There are solutions for these exercises floating around the Internet ... please try and avoid the temptation to look at the solutions before doing the exercises yourself.  Record both the problems and your solutions in a new IPython notebook (*userid*_a2.ipynb) and upload it to https://dropitto.me/CMSC6950_A2 (password is mun)\n",
    "### due: Friday, May 20"
   ]
  },
  {
   "cell_type": "code",
   "execution_count": null,
   "metadata": {
    "collapsed": true
   },
   "outputs": [],
   "source": []
  }
 ],
 "metadata": {
  "kernelspec": {
   "display_name": "Python 3",
   "language": "python",
   "name": "python3"
  },
  "language_info": {
   "codemirror_mode": {
    "name": "ipython",
    "version": 3
   },
   "file_extension": ".py",
   "mimetype": "text/x-python",
   "name": "python",
   "nbconvert_exporter": "python",
   "pygments_lexer": "ipython3",
   "version": "3.5.1"
  }
 },
 "nbformat": 4,
 "nbformat_minor": 0
}
